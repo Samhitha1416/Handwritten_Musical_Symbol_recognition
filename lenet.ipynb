{
 "cells": [
  {
   "cell_type": "code",
   "execution_count": null,
   "metadata": {},
   "outputs": [],
   "source": [
    "pip install numpy pandas scikit-learn matplotlib opencv-python pillow\n"
   ]
  },
  {
   "cell_type": "code",
   "execution_count": null,
   "metadata": {},
   "outputs": [],
   "source": [
    "import numpy as np\n",
    "import pandas as pd\n",
    "import cv2\n",
    "import os\n",
    "import matplotlib.pyplot as plt\n",
    "from sklearn.model_selection import train_test_split\n",
    "from sklearn.svm import SVC\n",
    "from sklearn.metrics import accuracy_score, classification_report\n",
    "from PIL import Image\n"
   ]
  },
  {
   "cell_type": "code",
   "execution_count": null,
   "metadata": {},
   "outputs": [],
   "source": [
    "dataset_path = \"C:\\\\Users\\\\Varsh\\\\OneDrive\\\\Desktop\\\\music1a\\\\Notes\"\n",
    "\n",
    "# Class labels\n",
    "class_labels = ['Eight', 'Half', 'Quarter', 'Sixteenth', 'Whole']\n",
    "\n",
    "# Function to load and preprocess images\n",
    "def load_images():\n",
    "    data = []\n",
    "    labels = []\n",
    "\n",
    "    for label in class_labels:\n",
    "        folder_path = os.path.join(dataset_path, label)\n",
    "        for file in os.listdir(folder_path):\n",
    "            img_path = os.path.join(folder_path, file)\n",
    "            img = Image.open(img_path).convert(\"L\")  # Convert to grayscale\n",
    "            img = img.resize((64, 64))  # Resize image\n",
    "            img_array = np.array(img).flatten()  # Flatten image into 1D array\n",
    "            data.append(img_array)\n",
    "            labels.append(class_labels.index(label))  # Convert label to index\n",
    "\n",
    "    return np.array(data), np.array(labels)\n",
    "\n",
    "# Load dataset\n",
    "X, y = load_images()"
   ]
  },
  {
   "cell_type": "code",
   "execution_count": null,
   "metadata": {},
   "outputs": [],
   "source": [
    "X = X.reshape(-1, 32, 32, 1)  # Reshape for CNN input\n",
    "y = keras.utils.to_categorical(y, num_classes)  # One-hot encode labels\n",
    "\n",
    "print(f\"✅ Loaded {len(X)} images with shape {X.shape}\")"
   ]
  },
  {
   "cell_type": "code",
   "execution_count": null,
   "metadata": {},
   "outputs": [],
   "source": [
    "X_train, X_test, y_train, y_test = train_test_split(X, y, test_size=0.2, random_state=42)\n"
   ]
  },
  {
   "cell_type": "code",
   "execution_count": null,
   "metadata": {},
   "outputs": [],
   "source": []
  },
  {
   "cell_type": "code",
   "execution_count": null,
   "metadata": {},
   "outputs": [],
   "source": []
  },
  {
   "cell_type": "code",
   "execution_count": null,
   "metadata": {},
   "outputs": [],
   "source": []
  },
  {
   "cell_type": "code",
   "execution_count": null,
   "metadata": {},
   "outputs": [],
   "source": []
  }
 ],
 "metadata": {
  "language_info": {
   "name": "python"
  }
 },
 "nbformat": 4,
 "nbformat_minor": 2
}
